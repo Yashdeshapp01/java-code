{
  "nbformat": 4,
  "nbformat_minor": 0,
  "metadata": {
    "colab": {
      "provenance": [],
      "authorship_tag": "ABX9TyNRsBIJ0e43pLvn5omE5c+V",
      "include_colab_link": true
    },
    "kernelspec": {
      "name": "python3",
      "display_name": "Python 3"
    },
    "language_info": {
      "name": "python"
    }
  },
  "cells": [
    {
      "cell_type": "markdown",
      "metadata": {
        "id": "view-in-github",
        "colab_type": "text"
      },
      "source": [
        "<a href=\"https://colab.research.google.com/github/Yashdeshapp01/java-code/blob/main/IS_IA.ipynb\" target=\"_parent\"><img src=\"https://colab.research.google.com/assets/colab-badge.svg\" alt=\"Open In Colab\"/></a>"
      ]
    },
    {
      "cell_type": "code",
      "execution_count": 39,
      "metadata": {
        "id": "tyCFZVN1COX0"
      },
      "outputs": [],
      "source": [
        "import cv2\n",
        "import numpy as np\n",
        "import random\n"
      ]
    },
    {
      "cell_type": "code",
      "source": [
        "def gcd(a, b):\n",
        "    while b:\n",
        "        a, b = b, a % b\n",
        "    return a"
      ],
      "metadata": {
        "id": "U4Zjrk0yHLju"
      },
      "execution_count": 40,
      "outputs": []
    },
    {
      "cell_type": "code",
      "source": [
        "\n",
        "img = cv2.imread(\"sampleimage.png\")\n",
        "print(len(img))\n",
        "print(img.shape)\n",
        "s = gcd(img.shape[0],img.shape[1])\n",
        "print(s)\n",
        "\n"
      ],
      "metadata": {
        "colab": {
          "base_uri": "https://localhost:8080/"
        },
        "id": "53o0TTFcOhLD",
        "outputId": "0cd02596-dbad-4fb8-b9d5-c1ceff60ab41"
      },
      "execution_count": 41,
      "outputs": [
        {
          "output_type": "stream",
          "name": "stdout",
          "text": [
            "258\n",
            "(258, 262, 3)\n",
            "2\n"
          ]
        }
      ]
    },
    {
      "cell_type": "code",
      "source": [
        "block_size = s\n",
        "block_rows = img.shape[0] // block_size\n",
        "block_cols = img.shape[1] // block_size\n",
        "blocks = np.split(img, block_rows, axis=0)\n",
        "blocks = [np.split(block, block_cols, axis=1) for block in blocks]\n",
        "blocks = np.array(blocks).reshape(-1, block_size, block_size, 3)"
      ],
      "metadata": {
        "id": "6ZXfpaA3HgHz"
      },
      "execution_count": 42,
      "outputs": []
    },
    {
      "cell_type": "code",
      "source": [
        "scan_pattern = np.arange(len(blocks))\n",
        "random.shuffle(scan_pattern)\n",
        "shuffled_blocks = blocks[scan_pattern]"
      ],
      "metadata": {
        "id": "j3INsjg3K9EQ"
      },
      "execution_count": 43,
      "outputs": []
    },
    {
      "cell_type": "code",
      "source": [
        "for block in shuffled_blocks:\n",
        "    for i in range(block_size):\n",
        "        for j in range(block_size):\n",
        "            row, col, _ = block[i][j]\n",
        "            block[i][j] = block[block_size - 1 - j][i]\n"
      ],
      "metadata": {
        "id": "L8sIviqELO_o"
      },
      "execution_count": 44,
      "outputs": []
    },
    {
      "cell_type": "code",
      "source": [
        "key = np.random.randint(0, 256, (2, block_size, block_size, 3), dtype=np.uint8)"
      ],
      "metadata": {
        "id": "87Yq6TrQLVIl"
      },
      "execution_count": 45,
      "outputs": []
    },
    {
      "cell_type": "code",
      "source": [
        "encrypted_blocks = np.bitwise_xor(shuffled_blocks, key[0])\n",
        "encrypted_blocks = np.bitwise_xor(encrypted_blocks, key[1])\n",
        "\n",
        "# Rebuild the encrypted image\n",
        "encrypted_img = np.concatenate(np.split(encrypted_blocks, block_cols), axis=2)\n",
        "encrypted_img = np.concatenate(np.split(encrypted_img, block_rows), axis=1)\n",
        "\n",
        "# Save the encrypted image\n",
        "cv2.imwrite(\"/content/encrypted_image.png\", encrypted_img)\n",
        "\n",
        "# Share the key with the intended recipient\n",
        "# ...\n",
        "\n",
        "# Decryption is performed using the shared key\n",
        "decrypted_blocks = np.bitwise_xor(encrypted_blocks, key[1])\n",
        "decrypted_blocks = np.bitwise_xor(decrypted_blocks, key[0])\n",
        "\n",
        "# Rebuild the decrypted image\n",
        "decrypted_img = np.concatenate(np.split(decrypted_blocks, block_cols), axis=2)\n",
        "decrypted_img = np.concatenate(np.split(decrypted_img, block_rows), axis=1)\n",
        "\n",
        "# Save the decrypted image\n",
        "cv2.imwrite(\"/content/decrypted_image.png\", decrypted_img)\n",
        "cv2.imshow(\"decrypted_image.png\")"
      ],
      "metadata": {
        "colab": {
          "base_uri": "https://localhost:8080/",
          "height": 374
        },
        "id": "i8cyV9eILZes",
        "outputId": "14b0bf67-8b8f-47ed-e44d-0b6dcb7386aa"
      },
      "execution_count": 46,
      "outputs": [
        {
          "output_type": "error",
          "ename": "DisabledFunctionError",
          "evalue": "ignored",
          "traceback": [
            "\u001b[0;31m---------------------------------------------------------------------------\u001b[0m",
            "\u001b[0;31mDisabledFunctionError\u001b[0m                     Traceback (most recent call last)",
            "\u001b[0;32m<ipython-input-46-b10413235c49>\u001b[0m in \u001b[0;36m<module>\u001b[0;34m\u001b[0m\n\u001b[1;32m     22\u001b[0m \u001b[0;31m# Save the decrypted image\u001b[0m\u001b[0;34m\u001b[0m\u001b[0;34m\u001b[0m\u001b[0;34m\u001b[0m\u001b[0m\n\u001b[1;32m     23\u001b[0m \u001b[0mcv2\u001b[0m\u001b[0;34m.\u001b[0m\u001b[0mimwrite\u001b[0m\u001b[0;34m(\u001b[0m\u001b[0;34m\"/content/decrypted_image.png\"\u001b[0m\u001b[0;34m,\u001b[0m \u001b[0mdecrypted_img\u001b[0m\u001b[0;34m)\u001b[0m\u001b[0;34m\u001b[0m\u001b[0;34m\u001b[0m\u001b[0m\n\u001b[0;32m---> 24\u001b[0;31m \u001b[0mcv2\u001b[0m\u001b[0;34m.\u001b[0m\u001b[0mimshow\u001b[0m\u001b[0;34m(\u001b[0m\u001b[0;34m\"decrypted_image.png\"\u001b[0m\u001b[0;34m)\u001b[0m\u001b[0;34m\u001b[0m\u001b[0;34m\u001b[0m\u001b[0m\n\u001b[0m",
            "\u001b[0;32m/usr/local/lib/python3.8/dist-packages/google/colab/_import_hooks/_cv2.py\u001b[0m in \u001b[0;36mwrapped\u001b[0;34m(*args, **kwargs)\u001b[0m\n\u001b[1;32m     46\u001b[0m   \u001b[0;32mdef\u001b[0m \u001b[0mwrapped\u001b[0m\u001b[0;34m(\u001b[0m\u001b[0;34m*\u001b[0m\u001b[0margs\u001b[0m\u001b[0;34m,\u001b[0m \u001b[0;34m**\u001b[0m\u001b[0mkwargs\u001b[0m\u001b[0;34m)\u001b[0m\u001b[0;34m:\u001b[0m\u001b[0;34m\u001b[0m\u001b[0;34m\u001b[0m\u001b[0m\n\u001b[1;32m     47\u001b[0m     \u001b[0;32mif\u001b[0m \u001b[0;32mnot\u001b[0m \u001b[0mos\u001b[0m\u001b[0;34m.\u001b[0m\u001b[0menviron\u001b[0m\u001b[0;34m.\u001b[0m\u001b[0mget\u001b[0m\u001b[0;34m(\u001b[0m\u001b[0menv_var\u001b[0m\u001b[0;34m,\u001b[0m \u001b[0;32mFalse\u001b[0m\u001b[0;34m)\u001b[0m\u001b[0;34m:\u001b[0m\u001b[0;34m\u001b[0m\u001b[0;34m\u001b[0m\u001b[0m\n\u001b[0;32m---> 48\u001b[0;31m       \u001b[0;32mraise\u001b[0m \u001b[0mDisabledFunctionError\u001b[0m\u001b[0;34m(\u001b[0m\u001b[0mmessage\u001b[0m\u001b[0;34m,\u001b[0m \u001b[0mname\u001b[0m \u001b[0;32mor\u001b[0m \u001b[0mfunc\u001b[0m\u001b[0;34m.\u001b[0m\u001b[0m__name__\u001b[0m\u001b[0;34m)\u001b[0m\u001b[0;34m\u001b[0m\u001b[0;34m\u001b[0m\u001b[0m\n\u001b[0m\u001b[1;32m     49\u001b[0m     \u001b[0;32mreturn\u001b[0m \u001b[0mfunc\u001b[0m\u001b[0;34m(\u001b[0m\u001b[0;34m*\u001b[0m\u001b[0margs\u001b[0m\u001b[0;34m,\u001b[0m \u001b[0;34m**\u001b[0m\u001b[0mkwargs\u001b[0m\u001b[0;34m)\u001b[0m\u001b[0;34m\u001b[0m\u001b[0;34m\u001b[0m\u001b[0m\n\u001b[1;32m     50\u001b[0m \u001b[0;34m\u001b[0m\u001b[0m\n",
            "\u001b[0;31mDisabledFunctionError\u001b[0m: cv2.imshow() is disabled in Colab, because it causes Jupyter sessions\nto crash; see https://github.com/jupyter/notebook/issues/3935.\nAs a substitution, consider using\n  from google.colab.patches import cv2_imshow\n"
          ],
          "errorDetails": {
            "actions": [
              {
                "action": "open_snippet",
                "actionText": "Search Snippets for cv2.imshow",
                "snippetFilter": "cv2.imshow"
              }
            ]
          }
        }
      ]
    }
  ]
}